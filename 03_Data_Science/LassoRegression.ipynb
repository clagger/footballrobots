{
 "metadata": {
  "language_info": {
   "codemirror_mode": {
    "name": "ipython",
    "version": 3
   },
   "file_extension": ".py",
   "mimetype": "text/x-python",
   "name": "python",
   "nbconvert_exporter": "python",
   "pygments_lexer": "ipython3",
   "version": "3.7.6-final"
  },
  "orig_nbformat": 2,
  "kernelspec": {
   "name": "python3",
   "display_name": "Python 3",
   "language": "python"
  }
 },
 "nbformat": 4,
 "nbformat_minor": 2,
 "cells": [
  {
   "cell_type": "code",
   "execution_count": 80,
   "metadata": {},
   "outputs": [],
   "source": [
    "# load and summarize the housing dataset\n",
    "import pandas as pd\n",
    "from matplotlib import pyplot\n",
    "# use automatically configured the lasso regression algorithm\n",
    "import numpy as np\n",
    "from sklearn.linear_model import LassoCV\n",
    "from sklearn.model_selection import RepeatedKFold\n",
    "import pickle\n",
    "\n",
    "\n",
    "\n",
    "training_data = pd.read_csv('06_Data_Science/labeled_data.csv')\n"
   ]
  },
  {
   "cell_type": "code",
   "execution_count": 81,
   "metadata": {},
   "outputs": [
    {
     "output_type": "execute_result",
     "data": {
      "text/plain": [
       "   time  player_id  mate_id  team_id decision  goal_team_1  goal_team_2  \\\n",
       "0  0.00          1        2        1    shoot            0            0   \n",
       "1  0.31          1        2        1    shoot            0            0   \n",
       "2  0.96          1        2        1    shoot            0            0   \n",
       "3  1.27          1        2        1    shoot            0            0   \n",
       "4  1.94          1        2        1    shoot            0            0   \n",
       "\n",
       "   goal_1_post_1_x  goal_1_post_1_y  goal_1_post_2_x  ...  player_2_alpha  \\\n",
       "0             1185              251             1195  ...          297.81   \n",
       "1             1185              251             1195  ...          293.56   \n",
       "2             1185              251             1195  ...          212.84   \n",
       "3             1185              251             1195  ...          213.88   \n",
       "4             1185              251             1195  ...          214.97   \n",
       "\n",
       "   player_3_x  player_3_y  player_3_alpha  player_4_x  player_4_y  \\\n",
       "0      314.25      248.25          330.49      288.00      445.00   \n",
       "1      329.00      255.50          330.54      287.25      444.50   \n",
       "2      417.75      301.00          331.29      346.25      428.00   \n",
       "3      465.00      325.00          330.54      405.50      414.75   \n",
       "4      542.50      369.00          349.79      442.50      405.00   \n",
       "\n",
       "   player_4_alpha  ball_x  ball_y     label  \n",
       "0           42.48  637.00  352.50 -0.579031  \n",
       "1           27.27  646.92  369.92 -0.579031  \n",
       "2            8.40  650.48  336.25 -0.579031  \n",
       "3            7.09  654.00  330.50 -0.579031  \n",
       "4          300.47  655.00  337.00 -0.579031  \n",
       "\n",
       "[5 rows x 30 columns]"
      ],
      "text/html": "<div>\n<style scoped>\n    .dataframe tbody tr th:only-of-type {\n        vertical-align: middle;\n    }\n\n    .dataframe tbody tr th {\n        vertical-align: top;\n    }\n\n    .dataframe thead th {\n        text-align: right;\n    }\n</style>\n<table border=\"1\" class=\"dataframe\">\n  <thead>\n    <tr style=\"text-align: right;\">\n      <th></th>\n      <th>time</th>\n      <th>player_id</th>\n      <th>mate_id</th>\n      <th>team_id</th>\n      <th>decision</th>\n      <th>goal_team_1</th>\n      <th>goal_team_2</th>\n      <th>goal_1_post_1_x</th>\n      <th>goal_1_post_1_y</th>\n      <th>goal_1_post_2_x</th>\n      <th>...</th>\n      <th>player_2_alpha</th>\n      <th>player_3_x</th>\n      <th>player_3_y</th>\n      <th>player_3_alpha</th>\n      <th>player_4_x</th>\n      <th>player_4_y</th>\n      <th>player_4_alpha</th>\n      <th>ball_x</th>\n      <th>ball_y</th>\n      <th>label</th>\n    </tr>\n  </thead>\n  <tbody>\n    <tr>\n      <th>0</th>\n      <td>0.00</td>\n      <td>1</td>\n      <td>2</td>\n      <td>1</td>\n      <td>shoot</td>\n      <td>0</td>\n      <td>0</td>\n      <td>1185</td>\n      <td>251</td>\n      <td>1195</td>\n      <td>...</td>\n      <td>297.81</td>\n      <td>314.25</td>\n      <td>248.25</td>\n      <td>330.49</td>\n      <td>288.00</td>\n      <td>445.00</td>\n      <td>42.48</td>\n      <td>637.00</td>\n      <td>352.50</td>\n      <td>-0.579031</td>\n    </tr>\n    <tr>\n      <th>1</th>\n      <td>0.31</td>\n      <td>1</td>\n      <td>2</td>\n      <td>1</td>\n      <td>shoot</td>\n      <td>0</td>\n      <td>0</td>\n      <td>1185</td>\n      <td>251</td>\n      <td>1195</td>\n      <td>...</td>\n      <td>293.56</td>\n      <td>329.00</td>\n      <td>255.50</td>\n      <td>330.54</td>\n      <td>287.25</td>\n      <td>444.50</td>\n      <td>27.27</td>\n      <td>646.92</td>\n      <td>369.92</td>\n      <td>-0.579031</td>\n    </tr>\n    <tr>\n      <th>2</th>\n      <td>0.96</td>\n      <td>1</td>\n      <td>2</td>\n      <td>1</td>\n      <td>shoot</td>\n      <td>0</td>\n      <td>0</td>\n      <td>1185</td>\n      <td>251</td>\n      <td>1195</td>\n      <td>...</td>\n      <td>212.84</td>\n      <td>417.75</td>\n      <td>301.00</td>\n      <td>331.29</td>\n      <td>346.25</td>\n      <td>428.00</td>\n      <td>8.40</td>\n      <td>650.48</td>\n      <td>336.25</td>\n      <td>-0.579031</td>\n    </tr>\n    <tr>\n      <th>3</th>\n      <td>1.27</td>\n      <td>1</td>\n      <td>2</td>\n      <td>1</td>\n      <td>shoot</td>\n      <td>0</td>\n      <td>0</td>\n      <td>1185</td>\n      <td>251</td>\n      <td>1195</td>\n      <td>...</td>\n      <td>213.88</td>\n      <td>465.00</td>\n      <td>325.00</td>\n      <td>330.54</td>\n      <td>405.50</td>\n      <td>414.75</td>\n      <td>7.09</td>\n      <td>654.00</td>\n      <td>330.50</td>\n      <td>-0.579031</td>\n    </tr>\n    <tr>\n      <th>4</th>\n      <td>1.94</td>\n      <td>1</td>\n      <td>2</td>\n      <td>1</td>\n      <td>shoot</td>\n      <td>0</td>\n      <td>0</td>\n      <td>1185</td>\n      <td>251</td>\n      <td>1195</td>\n      <td>...</td>\n      <td>214.97</td>\n      <td>542.50</td>\n      <td>369.00</td>\n      <td>349.79</td>\n      <td>442.50</td>\n      <td>405.00</td>\n      <td>300.47</td>\n      <td>655.00</td>\n      <td>337.00</td>\n      <td>-0.579031</td>\n    </tr>\n  </tbody>\n</table>\n<p>5 rows × 30 columns</p>\n</div>"
     },
     "metadata": {},
     "execution_count": 81
    }
   ],
   "source": [
    "training_data.head()"
   ]
  },
  {
   "cell_type": "code",
   "execution_count": 82,
   "metadata": {
    "tags": []
   },
   "outputs": [
    {
     "output_type": "execute_result",
     "data": {
      "text/plain": [
       "   time  player_id  mate_id  team_id decision  goal_team_1  goal_team_2  \\\n",
       "0  0.00          1        2        1        0            0            0   \n",
       "1  0.31          1        2        1        0            0            0   \n",
       "2  0.96          1        2        1        0            0            0   \n",
       "3  1.27          1        2        1        0            0            0   \n",
       "4  1.94          1        2        1        0            0            0   \n",
       "\n",
       "   goal_1_post_1_x  goal_1_post_1_y  goal_1_post_2_x  ...  player_2_alpha  \\\n",
       "0             1185              251             1195  ...          297.81   \n",
       "1             1185              251             1195  ...          293.56   \n",
       "2             1185              251             1195  ...          212.84   \n",
       "3             1185              251             1195  ...          213.88   \n",
       "4             1185              251             1195  ...          214.97   \n",
       "\n",
       "   player_3_x  player_3_y  player_3_alpha  player_4_x  player_4_y  \\\n",
       "0      314.25      248.25          330.49      288.00      445.00   \n",
       "1      329.00      255.50          330.54      287.25      444.50   \n",
       "2      417.75      301.00          331.29      346.25      428.00   \n",
       "3      465.00      325.00          330.54      405.50      414.75   \n",
       "4      542.50      369.00          349.79      442.50      405.00   \n",
       "\n",
       "   player_4_alpha  ball_x  ball_y     label  \n",
       "0           42.48  637.00  352.50 -0.579031  \n",
       "1           27.27  646.92  369.92 -0.579031  \n",
       "2            8.40  650.48  336.25 -0.579031  \n",
       "3            7.09  654.00  330.50 -0.579031  \n",
       "4          300.47  655.00  337.00 -0.579031  \n",
       "\n",
       "[5 rows x 30 columns]"
      ],
      "text/html": "<div>\n<style scoped>\n    .dataframe tbody tr th:only-of-type {\n        vertical-align: middle;\n    }\n\n    .dataframe tbody tr th {\n        vertical-align: top;\n    }\n\n    .dataframe thead th {\n        text-align: right;\n    }\n</style>\n<table border=\"1\" class=\"dataframe\">\n  <thead>\n    <tr style=\"text-align: right;\">\n      <th></th>\n      <th>time</th>\n      <th>player_id</th>\n      <th>mate_id</th>\n      <th>team_id</th>\n      <th>decision</th>\n      <th>goal_team_1</th>\n      <th>goal_team_2</th>\n      <th>goal_1_post_1_x</th>\n      <th>goal_1_post_1_y</th>\n      <th>goal_1_post_2_x</th>\n      <th>...</th>\n      <th>player_2_alpha</th>\n      <th>player_3_x</th>\n      <th>player_3_y</th>\n      <th>player_3_alpha</th>\n      <th>player_4_x</th>\n      <th>player_4_y</th>\n      <th>player_4_alpha</th>\n      <th>ball_x</th>\n      <th>ball_y</th>\n      <th>label</th>\n    </tr>\n  </thead>\n  <tbody>\n    <tr>\n      <th>0</th>\n      <td>0.00</td>\n      <td>1</td>\n      <td>2</td>\n      <td>1</td>\n      <td>0</td>\n      <td>0</td>\n      <td>0</td>\n      <td>1185</td>\n      <td>251</td>\n      <td>1195</td>\n      <td>...</td>\n      <td>297.81</td>\n      <td>314.25</td>\n      <td>248.25</td>\n      <td>330.49</td>\n      <td>288.00</td>\n      <td>445.00</td>\n      <td>42.48</td>\n      <td>637.00</td>\n      <td>352.50</td>\n      <td>-0.579031</td>\n    </tr>\n    <tr>\n      <th>1</th>\n      <td>0.31</td>\n      <td>1</td>\n      <td>2</td>\n      <td>1</td>\n      <td>0</td>\n      <td>0</td>\n      <td>0</td>\n      <td>1185</td>\n      <td>251</td>\n      <td>1195</td>\n      <td>...</td>\n      <td>293.56</td>\n      <td>329.00</td>\n      <td>255.50</td>\n      <td>330.54</td>\n      <td>287.25</td>\n      <td>444.50</td>\n      <td>27.27</td>\n      <td>646.92</td>\n      <td>369.92</td>\n      <td>-0.579031</td>\n    </tr>\n    <tr>\n      <th>2</th>\n      <td>0.96</td>\n      <td>1</td>\n      <td>2</td>\n      <td>1</td>\n      <td>0</td>\n      <td>0</td>\n      <td>0</td>\n      <td>1185</td>\n      <td>251</td>\n      <td>1195</td>\n      <td>...</td>\n      <td>212.84</td>\n      <td>417.75</td>\n      <td>301.00</td>\n      <td>331.29</td>\n      <td>346.25</td>\n      <td>428.00</td>\n      <td>8.40</td>\n      <td>650.48</td>\n      <td>336.25</td>\n      <td>-0.579031</td>\n    </tr>\n    <tr>\n      <th>3</th>\n      <td>1.27</td>\n      <td>1</td>\n      <td>2</td>\n      <td>1</td>\n      <td>0</td>\n      <td>0</td>\n      <td>0</td>\n      <td>1185</td>\n      <td>251</td>\n      <td>1195</td>\n      <td>...</td>\n      <td>213.88</td>\n      <td>465.00</td>\n      <td>325.00</td>\n      <td>330.54</td>\n      <td>405.50</td>\n      <td>414.75</td>\n      <td>7.09</td>\n      <td>654.00</td>\n      <td>330.50</td>\n      <td>-0.579031</td>\n    </tr>\n    <tr>\n      <th>4</th>\n      <td>1.94</td>\n      <td>1</td>\n      <td>2</td>\n      <td>1</td>\n      <td>0</td>\n      <td>0</td>\n      <td>0</td>\n      <td>1185</td>\n      <td>251</td>\n      <td>1195</td>\n      <td>...</td>\n      <td>214.97</td>\n      <td>542.50</td>\n      <td>369.00</td>\n      <td>349.79</td>\n      <td>442.50</td>\n      <td>405.00</td>\n      <td>300.47</td>\n      <td>655.00</td>\n      <td>337.00</td>\n      <td>-0.579031</td>\n    </tr>\n  </tbody>\n</table>\n<p>5 rows × 30 columns</p>\n</div>"
     },
     "metadata": {},
     "execution_count": 82
    }
   ],
   "source": [
    "# 5 possible decisions\n",
    "# 0 ... shoot\n",
    "# 1 ... center\n",
    "# 2 ... guard\n",
    "# 3 ... intercept\n",
    "# 4 ... recover\n",
    "\n",
    "def replace_cat_variables(df,column):\n",
    "    for index in df.index:\n",
    "        if df[column][index] == \"shoot\":\n",
    "            df[column][index] = 0\n",
    "        elif df[column][index]  == \"center\":\n",
    "            df[column][index] = 1\n",
    "        elif df[column][index] == \"guard\":\n",
    "            df[column][index] = 2\n",
    "        elif df[column][index] == \"intercept\":\n",
    "            df[column][index] = 3\n",
    "        elif df[column][index] == \"recover\":\n",
    "            df[column][index] = 4\n",
    "        else:\n",
    "            print(\"this should not happen :(\")\n",
    "\n",
    "replace_cat_variables(training_data,\"decision\")\n",
    "\n",
    "training_data.head()"
   ]
  },
  {
   "cell_type": "code",
   "execution_count": 83,
   "metadata": {},
   "outputs": [],
   "source": [
    "#define eval method\n",
    "cross_val = RepeatedKFold(n_splits=10, n_repeats=3, random_state=1)\n",
    "#n_jobs = Number of CPUs to use during the cross validation. -1 means using all processors.\n",
    "model = LassoCV(alphas=(0,1,0.01), cv=cross_val,n_jobs=-1)\n",
    "\n",
    "y = training_data[\"label\"]\n",
    "X = training_data.iloc[:,:-1]"
   ]
  },
  {
   "cell_type": "code",
   "execution_count": 84,
   "metadata": {},
   "outputs": [
    {
     "output_type": "execute_result",
     "data": {
      "text/plain": [
       "LassoCV(alphas=(0, 1, 0.01), copy_X=True,\n",
       "        cv=RepeatedKFold(n_repeats=3, n_splits=10, random_state=1), eps=0.001,\n",
       "        fit_intercept=True, max_iter=1000, n_alphas=100, n_jobs=-1,\n",
       "        normalize=False, positive=False, precompute='auto', random_state=None,\n",
       "        selection='cyclic', tol=0.0001, verbose=False)"
      ]
     },
     "metadata": {},
     "execution_count": 84
    }
   ],
   "source": [
    "model.fit(X,y)"
   ]
  },
  {
   "cell_type": "code",
   "execution_count": 85,
   "metadata": {},
   "outputs": [
    {
     "output_type": "stream",
     "name": "stdout",
     "text": [
      "alpha: 0.000000\n"
     ]
    }
   ],
   "source": [
    "print('alpha: %f' % model.alpha_)"
   ]
  },
  {
   "cell_type": "code",
   "execution_count": 96,
   "metadata": {},
   "outputs": [
    {
     "output_type": "error",
     "ename": "ValueError",
     "evalue": "Expected 2D array, got 1D array instead:\narray=[ 2.60000000e+00  1.00000000e+00  2.00000000e+00  1.00000000e+00\n  0.00000000e+00  0.00000000e+00  0.00000000e+00  1.18500000e+03\n  2.51000000e+02  1.19500000e+03  4.84000000e+02  1.00000000e+02\n  2.34000000e+02  8.10000000e+01  4.58000000e+02  8.95500000e+02\n  3.01750000e+02  9.55000000e+00  1.20350000e+03  3.51250000e+02\n  2.14970000e+02  6.11250000e+02  3.46000000e+02  1.90600000e+01\n  4.53500000e+02  4.57500000e+02  2.97270000e+02  6.69900000e+02\n  3.45900000e+02 -5.79031441e-01].\nReshape your data either using array.reshape(-1, 1) if your data has a single feature or array.reshape(1, -1) if it contains a single sample.",
     "traceback": [
      "\u001b[0;31m---------------------------------------------------------------------------\u001b[0m",
      "\u001b[0;31mValueError\u001b[0m                                Traceback (most recent call last)",
      "\u001b[0;32m<ipython-input-96-ce18b9590b40>\u001b[0m in \u001b[0;36m<module>\u001b[0;34m\u001b[0m\n\u001b[0;32m----> 1\u001b[0;31m \u001b[0mmodel\u001b[0m\u001b[0;34m.\u001b[0m\u001b[0mpredict\u001b[0m\u001b[0;34m(\u001b[0m\u001b[0mtraining_data\u001b[0m\u001b[0;34m.\u001b[0m\u001b[0miloc\u001b[0m\u001b[0;34m[\u001b[0m\u001b[0;36m5\u001b[0m\u001b[0;34m]\u001b[0m\u001b[0;34m)\u001b[0m\u001b[0;34m\u001b[0m\u001b[0;34m\u001b[0m\u001b[0m\n\u001b[0m",
      "\u001b[0;32m~/opt/anaconda3/lib/python3.7/site-packages/sklearn/linear_model/_base.py\u001b[0m in \u001b[0;36mpredict\u001b[0;34m(self, X)\u001b[0m\n\u001b[1;32m    223\u001b[0m             \u001b[0mReturns\u001b[0m \u001b[0mpredicted\u001b[0m \u001b[0mvalues\u001b[0m\u001b[0;34m.\u001b[0m\u001b[0;34m\u001b[0m\u001b[0;34m\u001b[0m\u001b[0m\n\u001b[1;32m    224\u001b[0m         \"\"\"\n\u001b[0;32m--> 225\u001b[0;31m         \u001b[0;32mreturn\u001b[0m \u001b[0mself\u001b[0m\u001b[0;34m.\u001b[0m\u001b[0m_decision_function\u001b[0m\u001b[0;34m(\u001b[0m\u001b[0mX\u001b[0m\u001b[0;34m)\u001b[0m\u001b[0;34m\u001b[0m\u001b[0;34m\u001b[0m\u001b[0m\n\u001b[0m\u001b[1;32m    226\u001b[0m \u001b[0;34m\u001b[0m\u001b[0m\n\u001b[1;32m    227\u001b[0m     \u001b[0m_preprocess_data\u001b[0m \u001b[0;34m=\u001b[0m \u001b[0mstaticmethod\u001b[0m\u001b[0;34m(\u001b[0m\u001b[0m_preprocess_data\u001b[0m\u001b[0;34m)\u001b[0m\u001b[0;34m\u001b[0m\u001b[0;34m\u001b[0m\u001b[0m\n",
      "\u001b[0;32m~/opt/anaconda3/lib/python3.7/site-packages/sklearn/linear_model/_base.py\u001b[0m in \u001b[0;36m_decision_function\u001b[0;34m(self, X)\u001b[0m\n\u001b[1;32m    205\u001b[0m         \u001b[0mcheck_is_fitted\u001b[0m\u001b[0;34m(\u001b[0m\u001b[0mself\u001b[0m\u001b[0;34m)\u001b[0m\u001b[0;34m\u001b[0m\u001b[0;34m\u001b[0m\u001b[0m\n\u001b[1;32m    206\u001b[0m \u001b[0;34m\u001b[0m\u001b[0m\n\u001b[0;32m--> 207\u001b[0;31m         \u001b[0mX\u001b[0m \u001b[0;34m=\u001b[0m \u001b[0mcheck_array\u001b[0m\u001b[0;34m(\u001b[0m\u001b[0mX\u001b[0m\u001b[0;34m,\u001b[0m \u001b[0maccept_sparse\u001b[0m\u001b[0;34m=\u001b[0m\u001b[0;34m[\u001b[0m\u001b[0;34m'csr'\u001b[0m\u001b[0;34m,\u001b[0m \u001b[0;34m'csc'\u001b[0m\u001b[0;34m,\u001b[0m \u001b[0;34m'coo'\u001b[0m\u001b[0;34m]\u001b[0m\u001b[0;34m)\u001b[0m\u001b[0;34m\u001b[0m\u001b[0;34m\u001b[0m\u001b[0m\n\u001b[0m\u001b[1;32m    208\u001b[0m         return safe_sparse_dot(X, self.coef_.T,\n\u001b[1;32m    209\u001b[0m                                dense_output=True) + self.intercept_\n",
      "\u001b[0;32m~/opt/anaconda3/lib/python3.7/site-packages/sklearn/utils/validation.py\u001b[0m in \u001b[0;36mcheck_array\u001b[0;34m(array, accept_sparse, accept_large_sparse, dtype, order, copy, force_all_finite, ensure_2d, allow_nd, ensure_min_samples, ensure_min_features, warn_on_dtype, estimator)\u001b[0m\n\u001b[1;32m    554\u001b[0m                     \u001b[0;34m\"Reshape your data either using array.reshape(-1, 1) if \"\u001b[0m\u001b[0;34m\u001b[0m\u001b[0;34m\u001b[0m\u001b[0m\n\u001b[1;32m    555\u001b[0m                     \u001b[0;34m\"your data has a single feature or array.reshape(1, -1) \"\u001b[0m\u001b[0;34m\u001b[0m\u001b[0;34m\u001b[0m\u001b[0m\n\u001b[0;32m--> 556\u001b[0;31m                     \"if it contains a single sample.\".format(array))\n\u001b[0m\u001b[1;32m    557\u001b[0m \u001b[0;34m\u001b[0m\u001b[0m\n\u001b[1;32m    558\u001b[0m         \u001b[0;31m# in the future np.flexible dtypes will be handled like object dtypes\u001b[0m\u001b[0;34m\u001b[0m\u001b[0;34m\u001b[0m\u001b[0;34m\u001b[0m\u001b[0m\n",
      "\u001b[0;31mValueError\u001b[0m: Expected 2D array, got 1D array instead:\narray=[ 2.60000000e+00  1.00000000e+00  2.00000000e+00  1.00000000e+00\n  0.00000000e+00  0.00000000e+00  0.00000000e+00  1.18500000e+03\n  2.51000000e+02  1.19500000e+03  4.84000000e+02  1.00000000e+02\n  2.34000000e+02  8.10000000e+01  4.58000000e+02  8.95500000e+02\n  3.01750000e+02  9.55000000e+00  1.20350000e+03  3.51250000e+02\n  2.14970000e+02  6.11250000e+02  3.46000000e+02  1.90600000e+01\n  4.53500000e+02  4.57500000e+02  2.97270000e+02  6.69900000e+02\n  3.45900000e+02 -5.79031441e-01].\nReshape your data either using array.reshape(-1, 1) if your data has a single feature or array.reshape(1, -1) if it contains a single sample."
     ]
    }
   ],
   "source": []
  },
  {
   "cell_type": "code",
   "execution_count": null,
   "metadata": {},
   "outputs": [],
   "source": [
    "import pickle\n",
    "#dataset save & load with pickle"
   ]
  }
 ]
}